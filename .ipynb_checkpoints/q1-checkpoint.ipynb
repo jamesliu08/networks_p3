{
 "cells": [
  {
   "cell_type": "code",
   "execution_count": 4,
   "metadata": {},
   "outputs": [],
   "source": [
    "import os\n",
    "import csv\n",
    "import numpy as np"
   ]
  },
  {
   "cell_type": "code",
   "execution_count": 10,
   "metadata": {},
   "outputs": [],
   "source": [
    "website_dict = {}\n",
    "for c, team in enumerate(os.listdir(\"Project3CommunityData\")):\n",
    "    for f in os.listdir(f'Project3CommunityData/{team}/clean_data/seq1'):\n",
    "          if 'ping_seq1.txt' in f:\n",
    "                key = f[:-14]\n",
    "                if key not in website_dict:\n",
    "                    website_dict[key] = []\n",
    "                with open(f'Project3CommunityData/{team}/clean_data/seq1/{f}', 'r') as ping:\n",
    "                    pingreader = csv.reader(ping)\n",
    "                    for row in pingreader:\n",
    "                        website_dict[key].append(float(row[-1]))"
   ]
  },
  {
   "cell_type": "code",
   "execution_count": 12,
   "metadata": {},
   "outputs": [
    {
     "name": "stdout",
     "output_type": "stream",
     "text": [
      "www_cnn_com\n",
      "386\n",
      "3736.116187856128\n",
      "61.12377759805204\n",
      "49.919300753650504\n",
      "30.477272727272727\n",
      "www_etsy_com\n",
      "386\n",
      "688480597.621511\n",
      "26238.913804148047\n",
      "1392.9687068221067\n",
      "36.53636363636363\n",
      "www_facebook_com\n",
      "386\n",
      "3755.9419648255302\n",
      "61.28574030576387\n",
      "51.74629363584026\n",
      "32.96818181818182\n",
      "www_fda_gov\n",
      "386\n",
      "4527.221060214305\n",
      "67.28462722059405\n",
      "52.24422020725389\n",
      "35.281818181818174\n",
      "www_letgo_com\n",
      "386\n",
      "4685.799706383838\n",
      "68.45290137301588\n",
      "56.23728932552767\n",
      "36.595454545454544\n",
      "www_medlineplus_gov\n",
      "330\n",
      "2434.7137067756107\n",
      "49.34281818842141\n",
      "43.45118434343434\n",
      "32.21363636363637\n",
      "www_orange_fr\n",
      "386\n",
      "3212.078061175815\n",
      "56.675197936803144\n",
      "157.69437640655258\n",
      "137.72727272727272\n",
      "www_twitter_com\n",
      "386\n",
      "2361.8045212738325\n",
      "48.59840039830357\n",
      "51.30756502852358\n",
      "39.85909090909091\n",
      "www_webmd_com\n",
      "386\n",
      "2030.7227660553895\n",
      "45.06354142824762\n",
      "31.19144874914953\n",
      "19.333181818181817\n",
      "www_whitehouse_gov\n",
      "386\n",
      "2431.748324662037\n",
      "49.31276026204614\n",
      "48.14930733500812\n",
      "35.31818181818182\n",
      "www_mayoclinic_org\n",
      "56\n",
      "14295.890648815557\n",
      "119.56542413597485\n",
      "84.1507702020202\n",
      "36.60909090909091\n"
     ]
    }
   ],
   "source": [
    "for key in website_dict:\n",
    "    array_version = np.asarray(website_dict[key])\n",
    "    print(key)\n",
    "    print(len(website_dict[key]))\n",
    "    print(np.var(array_version))\n",
    "    print(np.std(array_version))\n",
    "    print(np.mean(website_dict[key]))\n",
    "    print(np.median(website_dict[key]))"
   ]
  },
  {
   "cell_type": "code",
   "execution_count": null,
   "metadata": {},
   "outputs": [],
   "source": []
  }
 ],
 "metadata": {
  "kernelspec": {
   "display_name": "Python 3",
   "language": "python",
   "name": "python3"
  },
  "language_info": {
   "codemirror_mode": {
    "name": "ipython",
    "version": 3
   },
   "file_extension": ".py",
   "mimetype": "text/x-python",
   "name": "python",
   "nbconvert_exporter": "python",
   "pygments_lexer": "ipython3",
   "version": "3.6.8"
  }
 },
 "nbformat": 4,
 "nbformat_minor": 4
}
